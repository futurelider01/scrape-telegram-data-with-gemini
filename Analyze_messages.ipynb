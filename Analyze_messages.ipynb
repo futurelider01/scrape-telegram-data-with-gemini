{
  "cells": [
    {
      "cell_type": "markdown",
      "metadata": {
        "id": "view-in-github",
        "colab_type": "text"
      },
      "source": [
        "<a href=\"https://colab.research.google.com/github/futurelider01/scrape-telegram-data-with-gemini/blob/main/Analyze_messages.ipynb\" target=\"_parent\"><img src=\"https://colab.research.google.com/assets/colab-badge.svg\" alt=\"Open In Colab\"/></a>"
      ]
    },
    {
      "cell_type": "markdown",
      "metadata": {
        "id": "Tce3stUlHN0L"
      },
      "source": [
        "##### Copyright 2024 Google LLC."
      ]
    },
    {
      "cell_type": "code",
      "execution_count": null,
      "metadata": {
        "cellView": "form",
        "id": "tuOe1ymfHZPu"
      },
      "outputs": [],
      "source": [
        "#@title Licensed under the Apache License, Version 2.0 (the \"License\");\n",
        "# you may not use this file except in compliance with the License.\n",
        "# You may obtain a copy of the License at\n",
        "#\n",
        "# https://www.apache.org/licenses/LICENSE-2.0\n",
        "#\n",
        "# Unless required by applicable law or agreed to in writing, software\n",
        "# distributed under the License is distributed on an \"AS IS\" BASIS,\n",
        "# WITHOUT WARRANTIES OR CONDITIONS OF ANY KIND, either express or implied.\n",
        "# See the License for the specific language governing permissions and\n",
        "# limitations under the License."
      ]
    },
    {
      "cell_type": "markdown",
      "metadata": {
        "id": "-QhPWE1lwZHH"
      },
      "source": [
        "# Gemini API Python quickstart"
      ]
    },
    {
      "cell_type": "markdown",
      "metadata": {
        "id": "fa7c47ae6451"
      },
      "source": [
        "<table class=\"tfo-notebook-buttons\" align=\"left\">\n",
        "  <td>\n",
        "    <a target=\"_blank\" href=\"https://ai.google.dev/tutorials/quickstart_colab\"><img src=\"https://ai.google.dev/static/site-assets/images/docs/notebook-site-button.png\" height=\"32\" width=\"32\" />View on Google AI</a>\n",
        "  </td>\n",
        "  <td>\n",
        "    <a target=\"_blank\" href=\"https://colab.research.google.com/github/google/generative-ai-docs/blob/main/site/en/tutorials/quickstart_colab.ipynb\"><img src=\"https://www.tensorflow.org/images/colab_logo_32px.png\" />Run in Google Colab</a>\n",
        "  </td>\n",
        "  <td>\n",
        "    <a target=\"_blank\" href=\"https://github.com/google/generative-ai-docs/blob/main/site/en/tutorials/quickstart_colab.ipynb\"><img src=\"https://www.tensorflow.org/images/GitHub-Mark-32px.png\" />View source on GitHub</a>\n",
        "  </td>\n",
        "</table>"
      ]
    },
    {
      "cell_type": "markdown",
      "metadata": {
        "id": "db29b8d4247e"
      },
      "source": [
        "This tutorial shows you how to get started with the Gemini API using the Python SDK."
      ]
    },
    {
      "cell_type": "markdown",
      "metadata": {
        "id": "NNNg43Ymw54e"
      },
      "source": [
        "## Prerequisites\n",
        "\n",
        "You can run this tutorial in Google Colab, which doesn't require additional environment configuration.\n",
        "\n",
        "Alternatively, to complete this quickstart locally, see the Python guidance in [Get started with the Gemini API](https://ai.google.dev/tutorials/quickstart)."
      ]
    },
    {
      "cell_type": "markdown",
      "metadata": {
        "id": "kHkHARdb1ZID"
      },
      "source": [
        "## Install the SDK\n",
        "\n",
        "The Python SDK for the Gemini API is contained in the [`google-generativeai`](https://pypi.org/project/google-generativeai/) package. Install the dependency using pip:"
      ]
    },
    {
      "cell_type": "code",
      "execution_count": null,
      "metadata": {
        "id": "J6Pd9SFJ1yVi"
      },
      "outputs": [],
      "source": [
        "!pip install -q -U google-generativeai"
      ]
    },
    {
      "cell_type": "markdown",
      "metadata": {
        "id": "EeMCtmx9ykyx"
      },
      "source": [
        "## Set up your API key\n",
        "\n",
        "To use the Gemini API, you'll need an API key. If you don't already have one, create a key in Google AI Studio.\n",
        "\n",
        "<a class=\"button\" href=\"https://aistudio.google.com/app/apikey\" target=\"_blank\" rel=\"noopener noreferrer\">Get an API key</a>\n",
        "\n",
        "In Colab, add the key to the secrets manager under the \"🔑\" in the left panel. Give it the name `GOOGLE_API_KEY`. Then pass the key to the SDK:"
      ]
    },
    {
      "cell_type": "code",
      "execution_count": null,
      "metadata": {
        "id": "HTiaTu6O1LRC"
      },
      "outputs": [],
      "source": [
        "# Import the Python SDK\n",
        "import google.generativeai as genai\n",
        "# Used to securely store your API key\n",
        "from google.colab import userdata\n",
        "\n",
        "GOOGLE_API_KEY=userdata.get('GOOGLE_API_KEY')\n",
        "genai.configure(api_key=GOOGLE_API_KEY)"
      ]
    },
    {
      "cell_type": "markdown",
      "metadata": {
        "id": "CZPYk29o2No0"
      },
      "source": [
        "## Initialize the Generative Model\n",
        "\n",
        "Before you can make any API calls, you need to initialize the Generative Model."
      ]
    },
    {
      "cell_type": "code",
      "execution_count": null,
      "metadata": {
        "id": "s-JqXcDe2hZ_"
      },
      "outputs": [],
      "source": [
        "model = genai.GenerativeModel('gemini-pro')"
      ]
    },
    {
      "cell_type": "code",
      "source": [
        "text = \"\"\"В веб студию \"\"CREDO\"\" требуется опытный Laravel Backend разработчик.\n",
        "\n",
        "Требования:\n",
        "- Опыт работы Laravel / Vue от 3 лет\n",
        "- Cвободное владение русским языком, знание английского языка будет плюсом\n",
        "- Опыт проектирования и разработки современных высоконагруженных веб-проектов\n",
        "- Опыт работы с Git\n",
        "- PHP 7+,  опыт разработки\n",
        "- Опыт работы с микросервисной архитектурой\n",
        "- SQL, необходимо уметь писать запросы и оптимизировать их\n",
        "- SOLID, OOP – понимание основ, использование шаблонов проектирования\n",
        "- Опыт работы со сторонними API (взаимодействие с платёжными системами)\n",
        "- А так же опыт работы: Pinia, WeBsockets, WebRTC, Tailwind, GraphQL\n",
        "- Опыт работы с REST API или создания собственных API\n",
        "- Опыт автоматизированного тестирования\n",
        "\n",
        "Обещаем:\n",
        "- Удобное рабочее место\n",
        "- Зарплата до 1500$  (обговаривается)\n",
        "- Пятидневка с 9.00-18.00 или с 10.00-19.00 (гибкий график)\n",
        "- Дружелюбный коллектив, чай, кофе\n",
        "- Play Station 4\n",
        "\n",
        "Отправляйте резюме в телеграмм: @CredoStudio\n",
        "Или звоните : +998 97 104 0444\"\"\""
      ],
      "metadata": {
        "id": "qY_FMGIZvxjS"
      },
      "execution_count": null,
      "outputs": []
    },
    {
      "cell_type": "code",
      "source": [
        "import numpy as np\n",
        "job_titles_from_list = np.array(['Backend developer', 'Frontend developer', 'Android developer','IOS developer', 'Game developer',\n",
        "        'DevOps engineer','IT project manager', 'Network engineer', 'Cybersecurity Analyst','Cloud Architect', 'Full stack developer',\n",
        "        'Data analyst','Data engineer', 'AI engineer', 'Data scientist'], dtype=object)"
      ],
      "metadata": {
        "id": "qHeMAopPxjyG"
      },
      "execution_count": null,
      "outputs": []
    },
    {
      "cell_type": "code",
      "source": [
        "jobs = ','.join(job_titles_from_list)\n",
        "jobs"
      ],
      "metadata": {
        "id": "ETom6hzl0u4E",
        "outputId": "135048da-af87-471d-8574-01c5e95ec134",
        "colab": {
          "base_uri": "https://localhost:8080/",
          "height": 53
        }
      },
      "execution_count": null,
      "outputs": [
        {
          "output_type": "execute_result",
          "data": {
            "text/plain": [
              "'Backend developer,Frontend developer,Android developer,IOS developer,Game developer,DevOps engineer,IT project manager,Network engineer,Cybersecurity Analyst,Cloud Architect,Full stack developer,Data analyst,Data engineer,AI engineer,Data scientist'"
            ],
            "application/vnd.google.colaboratory.intrinsic+json": {
              "type": "string"
            }
          },
          "metadata": {},
          "execution_count": 17
        }
      ]
    },
    {
      "cell_type": "code",
      "source": [
        "promt = f\"Analyze given text and extract Company name, Job title, required skills such as programming languages and tools, ignore experience requirements \"\n",
        "promt += \"and give a category to this job vacancy from the following list: \"+'\\n'\n",
        "promt += f\"{jobs}\"\n",
        "promt += f\"\\ntext is: {text}\"\n",
        "promt += \"Please return answer as following json format: \\n\"\n",
        "promt += \"{Company: ..., Job Title: ..., skills: [list], Category: ...}\""
      ],
      "metadata": {
        "id": "oJhEE9z9yH0n"
      },
      "execution_count": null,
      "outputs": []
    },
    {
      "cell_type": "code",
      "source": [
        "print(promt)"
      ],
      "metadata": {
        "id": "JUxq41iNycAb",
        "outputId": "f09a4327-11f1-4410-e97a-32f8c9cc4333",
        "colab": {
          "base_uri": "https://localhost:8080/"
        }
      },
      "execution_count": null,
      "outputs": [
        {
          "output_type": "stream",
          "name": "stdout",
          "text": [
            "Analyze given text and extract Company name, Job title, required skills such as programming languages and tools, ignore experience requirements and give a category to this job vacancy from the following list: \n",
            "Backend developer,Frontend developer,Android developer,IOS developer,Game developer,DevOps engineer,IT project manager,Network engineer,Cybersecurity Analyst,Cloud Architect,Full stack developer,Data analyst,Data engineer,AI engineer,Data scientist\n",
            "text is: В веб студию \"\"CREDO\"\" требуется опытный Laravel Backend разработчик.\n",
            "\n",
            "Требования:\n",
            "- Опыт работы Laravel / Vue от 3 лет\n",
            "- Cвободное владение русским языком, знание английского языка будет плюсом\n",
            "- Опыт проектирования и разработки современных высоконагруженных веб-проектов\n",
            "- Опыт работы с Git\n",
            "- PHP 7+,  опыт разработки\n",
            "- Опыт работы с микросервисной архитектурой\n",
            "- SQL, необходимо уметь писать запросы и оптимизировать их\n",
            "- SOLID, OOP – понимание основ, использование шаблонов проектирования\n",
            "- Опыт работы со сторонними API (взаимодействие с платёжными системами)\n",
            "- А так же опыт работы: Pinia, WeBsockets, WebRTC, Tailwind, GraphQL\n",
            "- Опыт работы с REST API или создания собственных API\n",
            "- Опыт автоматизированного тестирования\n",
            "\n",
            "Обещаем:\n",
            "- Удобное рабочее место\n",
            "- Зарплата до 1500$  (обговаривается)\n",
            "- Пятидневка с 9.00-18.00 или с 10.00-19.00 (гибкий график)\n",
            "- Дружелюбный коллектив, чай, кофе\n",
            "- Play Station 4\n",
            "\n",
            "Отправляйте резюме в телеграмм: @CredoStudio\n",
            "Или звоните : +998 97 104 0444Please return answer as following json format: \n",
            "{Company: ..., Job Title: ..., skills: [list], Category: ...}\n"
          ]
        }
      ]
    },
    {
      "cell_type": "markdown",
      "metadata": {
        "id": "nXxypzJH4MUl"
      },
      "source": [
        "## Generate text"
      ]
    },
    {
      "cell_type": "code",
      "execution_count": null,
      "metadata": {
        "id": "j51mcrLD4Y2W",
        "outputId": "65f1c2a4-4052-454e-ed20-c433fbbd3905",
        "colab": {
          "base_uri": "https://localhost:8080/",
          "height": 121
        }
      },
      "outputs": [
        {
          "output_type": "stream",
          "name": "stdout",
          "text": [
            "{\n",
            "\"Company\": \"CREDO\",\n",
            "\"Job Title\": \"Laravel Backend Разработчик\",\n",
            "\"skills\": [\"Laravel\", \"Vue\", \"PHP 7+\", \"GIT\", \"SQL\", \"SOLID\", \"OOP\", \"Pinia\", \"WeBsockets\", \"WebRTC\", \"Tailwind\", \"GraphQL\", \"REST API\"],\n",
            "\"Category\": \"Backend developer\"\n",
            "}\n"
          ]
        }
      ],
      "source": [
        "response = model.generate_content(promt)\n",
        "print(response.text)"
      ]
    },
    {
      "cell_type": "code",
      "source": [
        "response"
      ],
      "metadata": {
        "id": "aKR2Y7i-1wfp",
        "outputId": "b1ae4098-d715-4a2f-90a3-96f55f17d7fc",
        "colab": {
          "base_uri": "https://localhost:8080/"
        }
      },
      "execution_count": null,
      "outputs": [
        {
          "output_type": "execute_result",
          "data": {
            "text/plain": [
              "response:\n",
              "GenerateContentResponse(\n",
              "    done=True,\n",
              "    iterator=None,\n",
              "    result=protos.GenerateContentResponse({\n",
              "      \"candidates\": [\n",
              "        {\n",
              "          \"content\": {\n",
              "            \"parts\": [\n",
              "              {\n",
              "                \"text\": \"**Job Title:** Laravel Backend Developer\\n\\n**Required skills:**\\n\\n* Programming languages: PHP 7+\\n* Frameworks: Laravel, Vue\\n* Tools: Git, Pinia, WeBsockets, WebRTC, Tailwind, GraphQL\\n\\n**Category:** Backend developer\"\n",
              "              }\n",
              "            ],\n",
              "            \"role\": \"model\"\n",
              "          },\n",
              "          \"finish_reason\": \"STOP\",\n",
              "          \"index\": 0,\n",
              "          \"safety_ratings\": [\n",
              "            {\n",
              "              \"category\": \"HARM_CATEGORY_SEXUALLY_EXPLICIT\",\n",
              "              \"probability\": \"NEGLIGIBLE\"\n",
              "            },\n",
              "            {\n",
              "              \"category\": \"HARM_CATEGORY_HATE_SPEECH\",\n",
              "              \"probability\": \"NEGLIGIBLE\"\n",
              "            },\n",
              "            {\n",
              "              \"category\": \"HARM_CATEGORY_HARASSMENT\",\n",
              "              \"probability\": \"NEGLIGIBLE\"\n",
              "            },\n",
              "            {\n",
              "              \"category\": \"HARM_CATEGORY_DANGEROUS_CONTENT\",\n",
              "              \"probability\": \"NEGLIGIBLE\"\n",
              "            }\n",
              "          ]\n",
              "        }\n",
              "      ],\n",
              "      \"usage_metadata\": {\n",
              "        \"prompt_token_count\": 402,\n",
              "        \"candidates_token_count\": 54,\n",
              "        \"total_token_count\": 456\n",
              "      }\n",
              "    }),\n",
              ")"
            ]
          },
          "metadata": {},
          "execution_count": 28
        }
      ]
    },
    {
      "cell_type": "markdown",
      "metadata": {
        "id": "zUUAQS9u4biH"
      },
      "source": [
        "## What's next\n",
        "\n",
        "To learn more about working with the Gemini API, see the [Python tutorial](https://ai.google.dev/tutorials/python_quickstart).\n",
        "\n",
        "If you're new to generative AI models, you might want to look at the\n",
        "[concepts guide](https://ai.google.dev/docs/concepts) and the\n",
        "[Gemini API overview](https://ai.google.dev/docs/gemini_api_overview)."
      ]
    }
  ],
  "metadata": {
    "colab": {
      "provenance": [],
      "include_colab_link": true
    },
    "kernelspec": {
      "display_name": "Python 3",
      "name": "python3"
    }
  },
  "nbformat": 4,
  "nbformat_minor": 0
}